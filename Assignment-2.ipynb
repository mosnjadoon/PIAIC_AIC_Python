{
 "cells": [
  {
   "cell_type": "markdown",
   "id": "53efbb6b",
   "metadata": {},
   "source": [
    "# Assignment2 OOP"
   ]
  },
  {
   "cell_type": "markdown",
   "id": "c1d5f026",
   "metadata": {},
   "source": [
    "## Task 1: \n",
    "#### 1. import mother and father attribute\n",
    "#### 2. add two new attributes in the child constructor"
   ]
  },
  {
   "cell_type": "code",
   "execution_count": 7,
   "id": "8ab3c2ae",
   "metadata": {},
   "outputs": [
    {
     "name": "stdout",
     "output_type": "stream",
     "text": [
      "['father_age', 'father_first_name', 'father_job', 'father_last_name', 'fatherskills']\n",
      "['mother_age', 'mother_first_name', 'mother_job', 'mother_last_name', 'motherskills']\n",
      "['education', 'father_age', 'father_first_name', 'father_job', 'father_last_name', 'fatherskills', 'height', 'mother_age', 'mother_first_name', 'mother_job', 'mother_last_name', 'motherskills']\n"
     ]
    }
   ],
   "source": [
    "class Father():\n",
    "    def __init__(self):\n",
    "        self.father_first_name = None\n",
    "        self.father_last_name = None\n",
    "        self.father_age = None\n",
    "        self.father_job = None\n",
    "        \n",
    "    def fatherskills(self):\n",
    "        return \"Engineer\"\n",
    "    \n",
    "    \n",
    "class Mother():\n",
    "    def __init__(self):\n",
    "        self.mother_first_name = None\n",
    "        self.mother_last_name = None\n",
    "        self.mother_age = None\n",
    "        self.mother_job = None\n",
    "        \n",
    "    def motherskills(self):\n",
    "        return \"Cooking\"\n",
    "    \n",
    "class Child(Father, Mother):\n",
    "    def __init__(self):# Create new child constructor\n",
    "        # Part 1 : Import mother and father attributes\n",
    "        Father.__init__(self) # call Father class attributes\n",
    "        Mother.__init__(self) # call Mother class attributes\n",
    "        # part 2 : adding two additional attributes\n",
    "        self.education = None # addtional child attribute No. 1\n",
    "        self.height = None # additional child attribute No. 2\n",
    "f1 = Father()\n",
    "m1 = Mother()\n",
    "c1 = Child()\n",
    "print([i for i in dir(f1) if \"__\" not in i])\n",
    "print([i for i in dir(m1) if \"__\" not in i])\n",
    "print([i for i in dir(c1) if \"__\" not in i])"
   ]
  },
  {
   "cell_type": "markdown",
   "id": "8d074283",
   "metadata": {},
   "source": [
    "## Task 2: \n",
    "####  Create operator overloading\n"
   ]
  },
  {
   "cell_type": "code",
   "execution_count": 23,
   "id": "4532cc6e",
   "metadata": {},
   "outputs": [
    {
     "name": "stdout",
     "output_type": "stream",
     "text": [
      "total Number 1 is: 200 & total Number 2 is: 179\n"
     ]
    }
   ],
   "source": [
    "class Adding_Numbers ():\n",
    "    def __init__(self,Number1 , Number2):\n",
    "        self.Number1 = Number1\n",
    "        self.Number2 = Number2\n",
    "    def __add__(self,other):\n",
    "        Number_1 = self.Number1 + other.Number1 \n",
    "        Number_2 = self.Number2 + other.Number2\n",
    "        Total = Adding_Numbers(Number_1 , Number_2)\n",
    "        return Total\n",
    "    def __str__(self):\n",
    "        return f\"total Number 1 is: {self.Number1} & total Number 2 is: {self.Number2}\"\n",
    "    \n",
    "Total_number_1 = Adding_Numbers(110,89)\n",
    "Total_number_2 = Adding_Numbers(90,50)\n",
    "\n",
    "print(Total_number_1 + Total_number_2) "
   ]
  },
  {
   "cell_type": "code",
   "execution_count": null,
   "id": "bc3b3cc9",
   "metadata": {},
   "outputs": [],
   "source": []
  },
  {
   "cell_type": "code",
   "execution_count": null,
   "id": "09f357fd",
   "metadata": {},
   "outputs": [],
   "source": []
  }
 ],
 "metadata": {
  "kernelspec": {
   "display_name": "Python 3 (ipykernel)",
   "language": "python",
   "name": "python3"
  },
  "language_info": {
   "codemirror_mode": {
    "name": "ipython",
    "version": 3
   },
   "file_extension": ".py",
   "mimetype": "text/x-python",
   "name": "python",
   "nbconvert_exporter": "python",
   "pygments_lexer": "ipython3",
   "version": "3.9.12"
  }
 },
 "nbformat": 4,
 "nbformat_minor": 5
}
